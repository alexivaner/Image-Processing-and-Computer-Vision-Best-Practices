{
 "cells": [
  {
   "cell_type": "markdown",
   "metadata": {},
   "source": [
    "# Create First Image Classifier using kNN (K Nearest Neighbor)"
   ]
  },
  {
   "cell_type": "markdown",
   "metadata": {},
   "source": [
    "This algorithm is not actually learn, instead it only use euclidean distances and choose the nearest eucledian distances among the class. The largest downside is also the model need to save all the images to compare, so it would have a really big model and of course computationally expensive."
   ]
  },
  {
   "cell_type": "markdown",
   "metadata": {},
   "source": [
    "## Import the Necessary Packages"
   ]
  },
  {
   "cell_type": "code",
   "execution_count": 58,
   "metadata": {},
   "outputs": [],
   "source": [
    "# Import the necessary packages\n",
    "\n",
    "from sklearn.neighbors import KNeighborsClassifier\n",
    "from sklearn.preprocessing import LabelEncoder\n",
    "from sklearn.model_selection import train_test_split\n",
    "from sklearn.metrics import classification_report\n",
    "from imutils import paths\n",
    "import numpy as np\n",
    "import cv2\n",
    "import os"
   ]
  },
  {
   "cell_type": "markdown",
   "metadata": {},
   "source": [
    "# Preprocessing"
   ]
  },
  {
   "cell_type": "code",
   "execution_count": 59,
   "metadata": {},
   "outputs": [],
   "source": [
    "class SimpleProcessor:\n",
    "    def __init__(self,width,height,inter=cv2.INTER_AREA):\n",
    "        self.width=width\n",
    "        self.height=height\n",
    "        self.inter=inter\n",
    "        \n",
    "    def preprocess(self,image):\n",
    "        #Resize image ignoring aspect ratio\n",
    "        return cv2.resize(image,(self.width,self.height),interpolation=self.inter)\n",
    "        "
   ]
  },
  {
   "cell_type": "markdown",
   "metadata": {},
   "source": [
    "# Building Image Loader"
   ]
  },
  {
   "cell_type": "code",
   "execution_count": 60,
   "metadata": {},
   "outputs": [],
   "source": [
    "class SimpleDatasetLoader:\n",
    "    def __init__(self,preprocessors=None):\n",
    "        self.preprocessors=preprocessors\n",
    "        \n",
    "        if self.preprocessors is None:\n",
    "            self.preprocessors=[]\n",
    "            \n",
    "    def load(self,imagePaths,verbose=1):\n",
    "        data=[]\n",
    "        labels=[]\n",
    "        \n",
    "        #Loop over the input images\n",
    "        for (i,imagePath) in enumerate(imagePaths):\n",
    "            # load the image and extract the class label assuming\n",
    "            # that our path has the following format:\n",
    "            # /path/to/dataset/{class}/{image}.jpg\n",
    "            image=cv2.imread(imagePath)\n",
    "            label=imagePath.split(os.path.sep)[-2]\n",
    "            \n",
    "            if self.preprocessors is not None:\n",
    "                #loop over the preprocessors to each image\n",
    "                \n",
    "                for p in self.preprocessors:\n",
    "                    image=p.preprocess(image)\n",
    "                    \n",
    "            # treat our processed image as a \"feature vector\"\n",
    "            # by updating the data list followed by the labels         \n",
    "            data.append(image)\n",
    "            labels.append(label)\n",
    "            \n",
    "            # show an update every `verbose` images\n",
    "            if verbose > 0 and i > 0 and (i + 1) % verbose == 0:\n",
    "                print(\"[INFO] processed {}/{}\".format(i + 1,len(imagePaths)))\n",
    "                \n",
    "        return (np.array(data),np.array(labels))\n"
   ]
  },
  {
   "cell_type": "markdown",
   "metadata": {},
   "source": [
    "# Implementing KNN"
   ]
  },
  {
   "cell_type": "code",
   "execution_count": 61,
   "metadata": {},
   "outputs": [],
   "source": [
    "dataset=\"Images/dataset/animals\"\n",
    "neighbors=1\n",
    "jobs=-1"
   ]
  },
  {
   "cell_type": "code",
   "execution_count": 62,
   "metadata": {},
   "outputs": [
    {
     "name": "stdout",
     "output_type": "stream",
     "text": [
      "[INFO] loading images...\n",
      "[INFO] processed 500/3000\n",
      "[INFO] processed 1000/3000\n",
      "[INFO] processed 1500/3000\n",
      "[INFO] processed 2000/3000\n",
      "[INFO] processed 2500/3000\n",
      "[INFO] processed 3000/3000\n",
      "[INFO] features matrix: 8.8MB\n"
     ]
    }
   ],
   "source": [
    "print(\"[INFO] loading images...\")\n",
    "imagePaths = list(paths.list_images(dataset))\n",
    "                  \n",
    "sp=SimpleProcessor(32,32)\n",
    "sdl=SimpleDatasetLoader(preprocessors=[sp])\n",
    "(data,labels)=sdl.load(imagePaths,verbose=500)\n",
    "data=data.reshape((data.shape[0],3072)) #3072 is 32x32x3\n",
    "\n",
    "# show some information on memory consumption of the images\n",
    "print(\"[INFO] features matrix: {:.1f}MB\".format(data.nbytes / (1024 * 1024.0)))"
   ]
  },
  {
   "cell_type": "code",
   "execution_count": 63,
   "metadata": {},
   "outputs": [],
   "source": [
    "# Encode the label\n",
    "\n",
    "le=LabelEncoder()\n",
    "labels=le.fit_transform(labels)\n",
    "\n",
    "(trainX,testX,trainY,testY)=train_test_split(data,labels,test_size=0.25,random_state=42)\n"
   ]
  },
  {
   "cell_type": "code",
   "execution_count": 65,
   "metadata": {},
   "outputs": [
    {
     "data": {
      "text/plain": [
       "KNeighborsClassifier(n_jobs=-1, n_neighbors=1)"
      ]
     },
     "execution_count": 65,
     "metadata": {},
     "output_type": "execute_result"
    }
   ],
   "source": [
    "#Train and evaluate Knn Neigbor\n",
    "\n",
    "model=KNeighborsClassifier(n_neighbors=neighbors,n_jobs=jobs)\n",
    "model.fit(trainX,trainY)"
   ]
  },
  {
   "cell_type": "code",
   "execution_count": 67,
   "metadata": {},
   "outputs": [
    {
     "name": "stdout",
     "output_type": "stream",
     "text": [
      "              precision    recall  f1-score   support\n",
      "\n",
      "        cats       0.41      0.49      0.45       262\n",
      "        dogs       0.35      0.47      0.40       249\n",
      "       panda       0.70      0.31      0.43       239\n",
      "\n",
      "    accuracy                           0.43       750\n",
      "   macro avg       0.49      0.42      0.43       750\n",
      "weighted avg       0.48      0.43      0.43       750\n",
      "\n"
     ]
    }
   ],
   "source": [
    "print(classification_report(testY,model.predict(testX),target_names=le.classes_))"
   ]
  }
 ],
 "metadata": {
  "kernelspec": {
   "display_name": "Python 3",
   "language": "python",
   "name": "python3"
  },
  "language_info": {
   "codemirror_mode": {
    "name": "ipython",
    "version": 3
   },
   "file_extension": ".py",
   "mimetype": "text/x-python",
   "name": "python",
   "nbconvert_exporter": "python",
   "pygments_lexer": "ipython3",
   "version": "3.8.3"
  }
 },
 "nbformat": 4,
 "nbformat_minor": 4
}
