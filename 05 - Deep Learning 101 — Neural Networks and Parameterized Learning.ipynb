{
 "cells": [
  {
   "cell_type": "markdown",
   "metadata": {},
   "source": [
    "# Create First Image Classifier using kNN (K Nearest Neighbor)"
   ]
  },
  {
   "cell_type": "markdown",
   "metadata": {},
   "source": [
    "This algorithm is not actually learn, instead it only use euclidean distances and choose the nearest eucledian distances among the class. The largest downside is also the model need to save all the images to compare, so it would have a really big model and of course computationally expensive."
   ]
  },
  {
   "cell_type": "markdown",
   "metadata": {},
   "source": [
    "## Import the Necessary Packages"
   ]
  },
  {
   "cell_type": "code",
   "execution_count": 7,
   "metadata": {},
   "outputs": [],
   "source": [
    "# Import the necessary packages\n",
    "\n",
    "from sklearn.neighbors import KNeighborsClassifier\n",
    "from sklearn.preprocessing import LabelEncoder\n",
    "from sklearn.model_selection import train_test_split\n",
    "from sklearn.metrics import classification_report\n",
    "from imutils import paths\n",
    "import numpy as np\n",
    "import cv2\n",
    "import os"
   ]
  },
  {
   "cell_type": "markdown",
   "metadata": {},
   "source": [
    "## Preprocessing"
   ]
  },
  {
   "cell_type": "code",
   "execution_count": 8,
   "metadata": {},
   "outputs": [],
   "source": [
    "class SimpleProcessor:\n",
    "    def __init__(self,width,height,inter=cv2.INTER_AREA):\n",
    "        self.width=width\n",
    "        self.height=height\n",
    "        self.inter=inter\n",
    "        \n",
    "    def preprocess(self,image):\n",
    "        #Resize image ignoring aspect ratio\n",
    "        return cv2.resize(image,(self.width,self.height),interpolation=self.inter)\n",
    "        "
   ]
  },
  {
   "cell_type": "markdown",
   "metadata": {},
   "source": [
    "## Building Image Loader"
   ]
  },
  {
   "cell_type": "code",
   "execution_count": 9,
   "metadata": {},
   "outputs": [],
   "source": [
    "class SimpleDatasetLoader:\n",
    "    def __init__(self,preprocessors=None):\n",
    "        self.preprocessors=preprocessors\n",
    "        \n",
    "        if self.preprocessors is None:\n",
    "            self.preprocessors=[]\n",
    "            \n",
    "    def load(self,imagePaths,verbose=1):\n",
    "        data=[]\n",
    "        labels=[]\n",
    "        \n",
    "        #Loop over the input images\n",
    "        for (i,imagePath) in enumerate(imagePaths):\n",
    "            # load the image and extract the class label assuming\n",
    "            # that our path has the following format:\n",
    "            # /path/to/dataset/{class}/{image}.jpg\n",
    "            image=cv2.imread(imagePath)\n",
    "            label=imagePath.split(os.path.sep)[-2]\n",
    "            \n",
    "            if self.preprocessors is not None:\n",
    "                #loop over the preprocessors to each image\n",
    "                \n",
    "                for p in self.preprocessors:\n",
    "                    image=p.preprocess(image)\n",
    "                    \n",
    "            # treat our processed image as a \"feature vector\"\n",
    "            # by updating the data list followed by the labels         \n",
    "            data.append(image)\n",
    "            labels.append(label)\n",
    "            \n",
    "            # show an update every `verbose` images\n",
    "            if verbose > 0 and i > 0 and (i + 1) % verbose == 0:\n",
    "                print(\"[INFO] processed {}/{}\".format(i + 1,len(imagePaths)))\n",
    "                \n",
    "        return (np.array(data),np.array(labels))\n"
   ]
  },
  {
   "cell_type": "markdown",
   "metadata": {},
   "source": [
    "## Implementing KNN"
   ]
  },
  {
   "cell_type": "code",
   "execution_count": 10,
   "metadata": {},
   "outputs": [],
   "source": [
    "dataset=\"Images/dataset/animals\"\n",
    "neighbors=1\n",
    "jobs=-1"
   ]
  },
  {
   "cell_type": "code",
   "execution_count": 11,
   "metadata": {},
   "outputs": [
    {
     "name": "stdout",
     "output_type": "stream",
     "text": [
      "[INFO] loading images...\n",
      "[INFO] processed 500/3000\n",
      "[INFO] processed 1000/3000\n",
      "[INFO] processed 1500/3000\n",
      "[INFO] processed 2000/3000\n",
      "[INFO] processed 2500/3000\n",
      "[INFO] processed 3000/3000\n",
      "[INFO] features matrix: 8.8MB\n"
     ]
    }
   ],
   "source": [
    "print(\"[INFO] loading images...\")\n",
    "imagePaths = list(paths.list_images(dataset))\n",
    "                  \n",
    "sp=SimpleProcessor(32,32)\n",
    "sdl=SimpleDatasetLoader(preprocessors=[sp])\n",
    "(data,labels)=sdl.load(imagePaths,verbose=500)\n",
    "data=data.reshape((data.shape[0],3072)) #3072 is 32x32x3\n",
    "\n",
    "# show some information on memory consumption of the images\n",
    "print(\"[INFO] features matrix: {:.1f}MB\".format(data.nbytes / (1024 * 1024.0)))"
   ]
  },
  {
   "cell_type": "code",
   "execution_count": 12,
   "metadata": {},
   "outputs": [],
   "source": [
    "# Encode the label\n",
    "\n",
    "le=LabelEncoder()\n",
    "labels=le.fit_transform(labels)\n",
    "\n",
    "(trainX,testX,trainY,testY)=train_test_split(data,labels,test_size=0.25,random_state=42)\n"
   ]
  },
  {
   "cell_type": "code",
   "execution_count": 13,
   "metadata": {},
   "outputs": [
    {
     "data": {
      "text/plain": [
       "KNeighborsClassifier(algorithm='auto', leaf_size=30, metric='minkowski',\n",
       "                     metric_params=None, n_jobs=-1, n_neighbors=1, p=2,\n",
       "                     weights='uniform')"
      ]
     },
     "execution_count": 13,
     "metadata": {},
     "output_type": "execute_result"
    }
   ],
   "source": [
    "#Train and evaluate Knn Neigbor\n",
    "\n",
    "model=KNeighborsClassifier(n_neighbors=neighbors,n_jobs=jobs)\n",
    "model.fit(trainX,trainY)"
   ]
  },
  {
   "cell_type": "code",
   "execution_count": 14,
   "metadata": {},
   "outputs": [
    {
     "name": "stdout",
     "output_type": "stream",
     "text": [
      "              precision    recall  f1-score   support\n",
      "\n",
      "        cats       0.41      0.49      0.45       262\n",
      "        dogs       0.35      0.47      0.40       249\n",
      "       panda       0.70      0.31      0.43       239\n",
      "\n",
      "    accuracy                           0.43       750\n",
      "   macro avg       0.49      0.42      0.43       750\n",
      "weighted avg       0.48      0.43      0.43       750\n",
      "\n"
     ]
    }
   ],
   "source": [
    "print(classification_report(testY,model.predict(testX),target_names=le.classes_)) "
   ]
  },
  {
   "cell_type": "markdown",
   "metadata": {},
   "source": [
    "# Parameterized Learning"
   ]
  },
  {
   "cell_type": "code",
   "execution_count": 43,
   "metadata": {},
   "outputs": [],
   "source": [
    "# import the necessary packages\n",
    "from sklearn.preprocessing import LabelEncoder\n",
    "from sklearn.svm import LinearSVC\n",
    "from sklearn.metrics import classification_report\n",
    "from sklearn.model_selection import train_test_split\n",
    "from imutils import paths\n",
    "import numpy as np\n",
    "import argparse\n",
    "import imutils\n",
    "import cv2\n",
    "import os"
   ]
  },
  {
   "cell_type": "code",
   "execution_count": 44,
   "metadata": {},
   "outputs": [],
   "source": [
    "def extract_color_histogram(image, bins=(8, 8, 8)):\n",
    "    # extract a 3D color histogram from the HSV color space using\n",
    "    # the supplied number of `bins` per channel\n",
    "    hsv = cv2.cvtColor(image, cv2.COLOR_BGR2HSV)\n",
    "    hist = cv2.calcHist([hsv], [0, 1, 2], None, bins,\n",
    "        [0, 180, 0, 256, 0, 256])\n",
    "\n",
    "    # handle normalizing the histogram if we are using OpenCV 2.4.X\n",
    "    if imutils.is_cv2():\n",
    "        hist = cv2.normalize(hist)\n",
    "\n",
    "    # otherwise, perform \"in place\" normalization in OpenCV 3 (I\n",
    "    # personally hate the way this is done\n",
    "    else:\n",
    "        cv2.normalize(hist, hist)\n",
    "\n",
    "    # return the flattened histogram as the feature vector\n",
    "    return hist.flatten()"
   ]
  },
  {
   "cell_type": "code",
   "execution_count": 45,
   "metadata": {},
   "outputs": [],
   "source": [
    "dataset=\"Images/kaggle_dogs_vs_cats/train/\""
   ]
  },
  {
   "cell_type": "code",
   "execution_count": 46,
   "metadata": {},
   "outputs": [],
   "source": [
    "imagePaths = list(paths.list_images(dataset))\n"
   ]
  },
  {
   "cell_type": "code",
   "execution_count": 48,
   "metadata": {},
   "outputs": [
    {
     "name": "stdout",
     "output_type": "stream",
     "text": [
      "[INFO] describing images...\n",
      "[INFO] processed 1000/25000\n",
      "[INFO] processed 2000/25000\n",
      "[INFO] processed 3000/25000\n",
      "[INFO] processed 4000/25000\n",
      "[INFO] processed 5000/25000\n",
      "[INFO] processed 6000/25000\n",
      "[INFO] processed 7000/25000\n",
      "[INFO] processed 8000/25000\n",
      "[INFO] processed 9000/25000\n",
      "[INFO] processed 10000/25000\n",
      "[INFO] processed 11000/25000\n",
      "[INFO] processed 12000/25000\n",
      "[INFO] processed 13000/25000\n",
      "[INFO] processed 14000/25000\n",
      "[INFO] processed 15000/25000\n",
      "[INFO] processed 16000/25000\n",
      "[INFO] processed 17000/25000\n",
      "[INFO] processed 18000/25000\n",
      "[INFO] processed 19000/25000\n",
      "[INFO] processed 20000/25000\n",
      "[INFO] processed 21000/25000\n",
      "[INFO] processed 22000/25000\n",
      "[INFO] processed 23000/25000\n",
      "[INFO] processed 24000/25000\n"
     ]
    }
   ],
   "source": [
    "# grab the list of images that we'll be describing\n",
    "print(\"[INFO] describing images...\")\n",
    "imagePaths = list(paths.list_images(dataset))\n",
    "\n",
    "# initialize the data matrix and labels list\n",
    "data = []\n",
    "labels = []\n",
    "\n",
    "# loop over the input images\n",
    "for (i, imagePath) in enumerate(imagePaths):\n",
    "    # load the image and extract the class label (assuming that our\n",
    "    # path as the format: /path/to/dataset/{class}.{image_num}.jpg\n",
    "    image = cv2.imread(imagePath)\n",
    "    label = imagePath.split(os.path.sep)[-1].split(\".\")[0].split(\"/\")[3]\n",
    "\n",
    "#     print(\"label: \",label)\n",
    "\n",
    "    # extract a color histogram from the image, then update the\n",
    "    # data matrix and labels list\n",
    "    hist = extract_color_histogram(image)\n",
    "    data.append(hist)\n",
    "    labels.append(label)\n",
    "\n",
    "    # show an update every 1,000 images\n",
    "    if i > 0 and i % 1000 == 0:\n",
    "        print(\"[INFO] processed {}/{}\".format(i, len(imagePaths)))"
   ]
  },
  {
   "cell_type": "code",
   "execution_count": 49,
   "metadata": {},
   "outputs": [],
   "source": [
    "import matplotlib.pyplot as plt\n",
    "\n",
    "def plt_imshow(title,image):\n",
    "    plt.plot(image)\n",
    "    plt.title(title)\n",
    "    plt.show()\n",
    "    "
   ]
  },
  {
   "cell_type": "code",
   "execution_count": 50,
   "metadata": {},
   "outputs": [
    {
     "data": {
      "image/png": "[encoded data removed]",
      "text/plain": [
       "<Figure size 432x288 with 1 Axes>"
      ]
     },
     "metadata": {
      "needs_background": "light"
     },
     "output_type": "display_data"
    }
   ],
   "source": [
    "plt_imshow(\"histogam\",data[5])"
   ]
  },
  {
   "cell_type": "code",
   "execution_count": 51,
   "metadata": {},
   "outputs": [],
   "source": [
    "# encode the labels, converting them from strings to integers\n",
    "le = LabelEncoder()\n",
    "labels = le.fit_transform(labels)\n"
   ]
  },
  {
   "cell_type": "code",
   "execution_count": 53,
   "metadata": {},
   "outputs": [
    {
     "name": "stdout",
     "output_type": "stream",
     "text": [
      "[INFO] constructing training/testing split...\n",
      "[INFO] training Linear SVM classifier...\n"
     ]
    },
    {
     "data": {
      "text/plain": [
       "LinearSVC(C=1.0, class_weight=None, dual=True, fit_intercept=True,\n",
       "          intercept_scaling=1, loss='squared_hinge', max_iter=1000,\n",
       "          multi_class='ovr', penalty='l2', random_state=None, tol=0.0001,\n",
       "          verbose=0)"
      ]
     },
     "execution_count": 53,
     "metadata": {},
     "output_type": "execute_result"
    }
   ],
   "source": [
    "\n",
    "# partition the data into training and testing splits, using 75%\n",
    "# of the data for training and the remaining 25% for testing\n",
    "print(\"[INFO] constructing training/testing split...\")\n",
    "(trainData, testData, trainLabels, testLabels) = train_test_split(\n",
    "\tnp.array(data), labels, test_size=0.25, random_state=42)\n",
    "\n",
    "# train the linear regression clasifier\n",
    "print(\"[INFO] training Linear SVM classifier...\")\n",
    "model = LinearSVC()\n",
    "model.fit(trainData, trainLabels)"
   ]
  },
  {
   "cell_type": "code",
   "execution_count": 55,
   "metadata": {},
   "outputs": [
    {
     "name": "stdout",
     "output_type": "stream",
     "text": [
      "[INFO] evaluating classifier...\n",
      "              precision    recall  f1-score   support\n",
      "\n",
      "         cat       0.62      0.68      0.65      3109\n",
      "         dog       0.65      0.59      0.62      3141\n",
      "\n",
      "    accuracy                           0.64      6250\n",
      "   macro avg       0.64      0.64      0.63      6250\n",
      "weighted avg       0.64      0.64      0.63      6250\n",
      "\n"
     ]
    }
   ],
   "source": [
    "# evaluate the classifier\n",
    "print(\"[INFO] evaluating classifier...\")\n",
    "predictions = model.predict(testData)\n",
    "print(classification_report(testLabels, predictions,\n",
    "\ttarget_names=le.classes_))"
   ]
  },
  {
   "cell_type": "markdown",
   "metadata": {},
   "source": [
    "## Type by Yourself"
   ]
  },
  {
   "cell_type": "code",
   "execution_count": null,
   "metadata": {},
   "outputs": [],
   "source": []
  }
 ],
 "metadata": {
  "kernelspec": {
   "display_name": "Python 3",
   "language": "python",
   "name": "python3"
  },
  "language_info": {
   "codemirror_mode": {
    "name": "ipython",
    "version": 3
   },
   "file_extension": ".py",
   "mimetype": "text/x-python",
   "name": "python",
   "nbconvert_exporter": "python",
   "pygments_lexer": "ipython3",
   "version": "3.7.3"
  }
 },
 "nbformat": 4,
 "nbformat_minor": 4
}
