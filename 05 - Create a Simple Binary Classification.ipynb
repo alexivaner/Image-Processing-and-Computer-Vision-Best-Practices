{
 "cells": [
  {
   "cell_type": "code",
   "execution_count": 1,
   "metadata": {},
   "outputs": [],
   "source": [
    "import numpy as np\n",
    "import cv2\n",
    "import matplotlib.pyplot as plt\n",
    "import imutils\n",
    "from sklearn.metrics import classification_report\n",
    "from sklearn.preprocessing import LabelEncoder\n",
    "from sklearn.model_selection import train_test_split\n",
    "from sklearn.ensemble import RandomForestClassifier\n",
    "import glob\n",
    "import os"
   ]
  },
  {
   "cell_type": "code",
   "execution_count": 2,
   "metadata": {},
   "outputs": [],
   "source": [
    "class SimplePreprocessor:\n",
    "    def __init__(self,height,width,inter=cv2.INTER_AREA):\n",
    "        self.height=height\n",
    "        self.width=width\n",
    "        self.inter=inter\n",
    "        \n",
    "    def preprocess(self,image):\n",
    "        return cv2.resize(image,(self.width,self.height),self.inter)\n",
    "    \n",
    "        "
   ]
  },
  {
   "cell_type": "code",
   "execution_count": 3,
   "metadata": {},
   "outputs": [],
   "source": [
    "class DataLoader:\n",
    "    def __init__(self,preprocessor=None):\n",
    "        self.preprocessor=preprocessor\n",
    "        \n",
    "        if self.preprocessor is None:\n",
    "            self.preprocessor=[]\n",
    "    \n",
    "    def load(self,ImageList,verbose=1):\n",
    "        \n",
    "        data=[]\n",
    "        labels=[]\n",
    "        \n",
    "        for (i,imagePath) in enumerate(ImageList):\n",
    "            image=cv2.imread(imagePath)\n",
    "            label=imagePath.split(os.sep)[1]\n",
    "            \n",
    "            if self.preprocessor is not None:\n",
    "                for process in self.preprocessor:\n",
    "                    image=process.preprocess(image)\n",
    "            \n",
    "            data.append(image)\n",
    "            labels.append(label)\n",
    "            \n",
    "            if verbose>0 and i>0 and (i+1)%verbose==0:\n",
    "                print(\"[INFO] processed {}/{}\".format(i+1,len(ImageList)))\n",
    "                \n",
    "        return(np.array(data),np.array(labels))\n",
    "\n",
    "            \n",
    "            "
   ]
  },
  {
   "cell_type": "code",
   "execution_count": 4,
   "metadata": {},
   "outputs": [],
   "source": [
    "prep=SimplePreprocessor(height=32,width=32)\n",
    "loader=DataLoader(preprocessor=[prep])"
   ]
  },
  {
   "cell_type": "code",
   "execution_count": 5,
   "metadata": {},
   "outputs": [],
   "source": [
    "imageList=glob.glob(\"Images/dataset/animals/*/*\")"
   ]
  },
  {
   "cell_type": "code",
   "execution_count": 6,
   "metadata": {},
   "outputs": [
    {
     "name": "stdout",
     "output_type": "stream",
     "text": [
      "[INFO] processed 500/3000\n",
      "[INFO] processed 1000/3000\n",
      "[INFO] processed 1500/3000\n",
      "[INFO] processed 2000/3000\n",
      "[INFO] processed 2500/3000\n",
      "[INFO] processed 3000/3000\n"
     ]
    }
   ],
   "source": [
    "data,labels=loader.load(imageList,verbose=500)"
   ]
  },
  {
   "cell_type": "code",
   "execution_count": 7,
   "metadata": {},
   "outputs": [],
   "source": [
    "le=LabelEncoder()\n",
    "labels=le.fit_transform(labels)\n",
    "data=data.reshape((data.shape[0],data.shape[1]*data.shape[2]*data.shape[3]))"
   ]
  },
  {
   "cell_type": "code",
   "execution_count": 8,
   "metadata": {},
   "outputs": [],
   "source": [
    "(xTrain,xTest,yTrain,yTest)=train_test_split(data,labels,test_size=0.2,random_state=42,shuffle=True)"
   ]
  },
  {
   "cell_type": "code",
   "execution_count": 9,
   "metadata": {},
   "outputs": [
    {
     "data": {
      "text/plain": [
       "RandomForestClassifier(bootstrap=True, class_weight=None, criterion='gini',\n",
       "                       max_depth=8, max_features='auto', max_leaf_nodes=None,\n",
       "                       min_impurity_decrease=0.0, min_impurity_split=None,\n",
       "                       min_samples_leaf=1, min_samples_split=2,\n",
       "                       min_weight_fraction_leaf=0.0, n_estimators=100,\n",
       "                       n_jobs=None, oob_score=False, random_state=None,\n",
       "                       verbose=0, warm_start=False)"
      ]
     },
     "execution_count": 9,
     "metadata": {},
     "output_type": "execute_result"
    }
   ],
   "source": [
    "model=RandomForestClassifier(n_estimators=100, max_depth=8)\n",
    "model.fit(xTrain,yTrain)"
   ]
  },
  {
   "cell_type": "code",
   "execution_count": 10,
   "metadata": {},
   "outputs": [
    {
     "name": "stdout",
     "output_type": "stream",
     "text": [
      "              precision    recall  f1-score   support\n",
      "\n",
      "        cats       0.58      0.45      0.51       217\n",
      "        dogs       0.47      0.56      0.51       197\n",
      "       panda       0.74      0.80      0.77       186\n",
      "\n",
      "    accuracy                           0.59       600\n",
      "   macro avg       0.60      0.60      0.60       600\n",
      "weighted avg       0.60      0.59      0.59       600\n",
      "\n"
     ]
    }
   ],
   "source": [
    "prediction=model.predict(xTest)\n",
    "print(classification_report(yTest,prediction,target_names=le.classes_))"
   ]
  },
  {
   "cell_type": "code",
   "execution_count": null,
   "metadata": {},
   "outputs": [],
   "source": []
  },
  {
   "cell_type": "code",
   "execution_count": null,
   "metadata": {},
   "outputs": [],
   "source": []
  },
  {
   "cell_type": "code",
   "execution_count": 5,
   "metadata": {},
   "outputs": [
    {
     "data": {
      "text/plain": [
       "'\\\\'"
      ]
     },
     "execution_count": 5,
     "metadata": {},
     "output_type": "execute_result"
    }
   ],
   "source": [
    "os.sep"
   ]
  }
 ],
 "metadata": {
  "kernelspec": {
   "display_name": "Python 3",
   "language": "python",
   "name": "python3"
  },
  "language_info": {
   "codemirror_mode": {
    "name": "ipython",
    "version": 3
   },
   "file_extension": ".py",
   "mimetype": "text/x-python",
   "name": "python",
   "nbconvert_exporter": "python",
   "pygments_lexer": "ipython3",
   "version": "3.7.3"
  }
 },
 "nbformat": 4,
 "nbformat_minor": 2
}
